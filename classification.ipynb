{
 "cells": [
  {
   "cell_type": "markdown",
   "metadata": {},
   "source": [
    "# Multi-class Classification: Digits Dataset."
   ]
  },
  {
   "cell_type": "markdown",
   "metadata": {},
   "source": [
    "***Stephen Sani***"
   ]
  },
  {
   "cell_type": "markdown",
   "metadata": {},
   "source": [
    ">***To train a classification model that predict the digit hand-written in an image.***"
   ]
  },
  {
   "cell_type": "markdown",
   "metadata": {},
   "source": [
    "Loading required packages"
   ]
  },
  {
   "cell_type": "code",
   "execution_count": 1,
   "metadata": {},
   "outputs": [],
   "source": [
    "import pandas as pd\n",
    "import matplotlib as mpl\n",
    "import matplotlib.pyplot as plt\n",
    "from sklearn.datasets import load_digits\n",
    "from sklearn.model_selection import GridSearchCV, learning_curve\n",
    "from sklearn.pipeline import Pipeline\n",
    "from sklearn.metrics import confusion_matrix, precision_score, recall_score, f1_score, accuracy_score\n",
    "from sklearn.linear_model import SGDClassifier, LogisticRegression\n",
    "from sklearn.tree import DecisionTreeClassifier\n",
    "from sklearn.ensemble import RandomForestClassifier\n",
    "from sklearn import svm\n",
    "from sklearn.neural_network import MLPClassifier\n",
    "from sklearn.multiclass import OneVsOneClassifier, OneVsRestClassifier\n",
    "import skops.io as sio\n",
    "\n",
    "from ml_util import SplitData, ScaleFeatures, train_accuracy, cv_accuracy"
   ]
  },
  {
   "cell_type": "markdown",
   "metadata": {},
   "source": [
    "The following tasks will be completed:\n",
    "1. Read the data\n",
    "2. Split the data into training and test sets (Stratified split)\n",
    "3. Scale the data\n",
    "4. Train and validate several classification models and select the most promising\n",
    "5. Tune, test and evaluate most prommising model\n",
    "6. Predict some sample data."
   ]
  },
  {
   "cell_type": "markdown",
   "metadata": {},
   "source": [
    "## Read the digits dataset"
   ]
  },
  {
   "cell_type": "markdown",
   "metadata": {},
   "source": [
    "Reading the digits dataset"
   ]
  },
  {
   "cell_type": "code",
   "execution_count": 2,
   "metadata": {},
   "outputs": [],
   "source": [
    "mnist_digits = load_digits()"
   ]
  },
  {
   "cell_type": "markdown",
   "metadata": {},
   "source": [
    "The data set is a dictionary of key-value pairs. the values comprises data and metadata componens that can be accessed through their associated keys. The keys are shown."
   ]
  },
  {
   "cell_type": "code",
   "execution_count": 3,
   "metadata": {},
   "outputs": [
    {
     "data": {
      "text/plain": [
       "dict_keys(['data', 'target', 'frame', 'feature_names', 'target_names', 'images', 'DESCR'])"
      ]
     },
     "execution_count": 3,
     "metadata": {},
     "output_type": "execute_result"
    }
   ],
   "source": [
    "mnist_digits.keys()"
   ]
  },
  {
   "cell_type": "markdown",
   "metadata": {},
   "source": [
    "Reading the digits data and target components. The target is a multi-class of 0 - 9 "
   ]
  },
  {
   "cell_type": "code",
   "execution_count": 4,
   "metadata": {},
   "outputs": [],
   "source": [
    "digits_x = mnist_digits['data'][10:, :]\n",
    "digits_y = mnist_digits['target'][10:]"
   ]
  },
  {
   "cell_type": "markdown",
   "metadata": {},
   "source": [
    "## Data Preparation"
   ]
  },
  {
   "cell_type": "markdown",
   "metadata": {},
   "source": [
    "Instantiating data splitting task in pipeline for execution"
   ]
  },
  {
   "cell_type": "code",
   "execution_count": 5,
   "metadata": {},
   "outputs": [],
   "source": [
    "# Define a split data pipeline\n",
    "split_data = Pipeline([\n",
    "    ('split_data', SplitData()),\n",
    "])"
   ]
  },
  {
   "cell_type": "markdown",
   "metadata": {},
   "source": [
    "The pipeline is executed to obtain training and test sets"
   ]
  },
  {
   "cell_type": "code",
   "execution_count": 6,
   "metadata": {},
   "outputs": [],
   "source": [
    "# Execute the pipeline\n",
    "train_x, test_x, train_y, test_y = split_data.fit_transform(X=digits_x, y=digits_y)"
   ]
  },
  {
   "cell_type": "markdown",
   "metadata": {},
   "source": [
    "## Model Selection"
   ]
  },
  {
   "cell_type": "markdown",
   "metadata": {},
   "source": [
    "Training and evaluating several classification models to choose the most promising one"
   ]
  },
  {
   "cell_type": "markdown",
   "metadata": {},
   "source": [
    "#### 1. Stochastic Gradient Descent Classifier"
   ]
  },
  {
   "cell_type": "code",
   "execution_count": 7,
   "metadata": {},
   "outputs": [],
   "source": [
    "# SGD classifier\n",
    "sgd_clf = Pipeline([\n",
    "    ('scale_features', ScaleFeatures()),\n",
    "    ('sgd_clf', SGDClassifier(max_iter=4000, random_state=42)),\n",
    "])\n",
    "sgd_clf.fit(X=train_x, y=train_y)\n",
    "sio.dump(sgd_clf, './resources/models/sgd_clf.joblib')\n",
    "train_y_pred = sgd_clf.predict(X=train_x)\n",
    "\n",
    "# Compute training and test errors\n",
    "sgd_clf_trac = train_accuracy(train_y, train_y_pred)\n",
    "sgd_clf_cvac = cv_accuracy(sgd_clf, train_x, train_y)\n"
   ]
  },
  {
   "cell_type": "markdown",
   "metadata": {},
   "source": [
    "#### 2. One-vs-One Multi-class Classifier"
   ]
  },
  {
   "cell_type": "code",
   "execution_count": 8,
   "metadata": {},
   "outputs": [],
   "source": [
    "# One-vs-one multi-class classifier with SGDClassifiers\n",
    "ovo_clf = Pipeline([\n",
    "    ('scale_features', ScaleFeatures()),\n",
    "    ('ovo_clf', OneVsOneClassifier(SGDClassifier(max_iter=4000, random_state=42))),\n",
    "])\n",
    "ovo_clf.fit(X=train_x, y=train_y)\n",
    "sio.dump(ovo_clf, './resources/models/ovo_clf.joblib') \n",
    "train_y_pred = ovo_clf.predict(X=train_x)\n",
    "\n",
    "# Compute training and test errors\n",
    "ovo_clf_trac = train_accuracy(train_y, train_y_pred)\n",
    "ovo_clf_cvac = cv_accuracy(ovo_clf, train_x, train_y)\n"
   ]
  },
  {
   "cell_type": "markdown",
   "metadata": {},
   "source": [
    "#### 3. One-vs-Rest Multi-class Classifier"
   ]
  },
  {
   "cell_type": "code",
   "execution_count": 9,
   "metadata": {},
   "outputs": [],
   "source": [
    "# One-vs-rest multi-class classifier with SGDClassifiers\n",
    "ovr_clf = Pipeline([\n",
    "    ('scale_features', ScaleFeatures()),\n",
    "    ('ovr_clf', OneVsRestClassifier(SGDClassifier(max_iter=4000, random_state=42))),\n",
    "])\n",
    "ovr_clf.fit(X=train_x, y=train_y)\n",
    "sio.dump(ovr_clf, './resources/models/ovr_clf.joblib')\n",
    "train_y_pred = ovr_clf.predict(X=train_x)\n",
    "\n",
    "# Compute training and test errors\n",
    "ovr_clf_trac = train_accuracy(train_y, train_y_pred)\n",
    "ovr_clf_cvac = cv_accuracy(ovr_clf, train_x, train_y)\n"
   ]
  },
  {
   "cell_type": "markdown",
   "metadata": {},
   "source": [
    "#### 4. Logistic regression classifier"
   ]
  },
  {
   "cell_type": "code",
   "execution_count": 10,
   "metadata": {},
   "outputs": [],
   "source": [
    "# Logistic regression classifier \n",
    "logistic_clf = Pipeline([\n",
    "    ('scale_features', ScaleFeatures()),\n",
    "    ('losistic_clf', LogisticRegression(max_iter=4000, random_state=42)),\n",
    "])\n",
    "logistic_clf.fit(X=train_x, y=train_y)\n",
    "sio.dump(logistic_clf, './resources/models/logistic_clf.joblib') \n",
    "train_y_pred = logistic_clf.predict(X=train_x)\n",
    "\n",
    "# Compute training and test errors\n",
    "logistic_clf_trac = train_accuracy(train_y, train_y_pred)\n",
    "logistic_clf_cvac = cv_accuracy(logistic_clf, train_x, train_y)\n"
   ]
  },
  {
   "cell_type": "markdown",
   "metadata": {},
   "source": [
    "#### 5. Softmax Logistic Regression Classifier"
   ]
  },
  {
   "cell_type": "code",
   "execution_count": 11,
   "metadata": {},
   "outputs": [],
   "source": [
    "# Softmax Logistic regression classifier\n",
    "softmax_clf = Pipeline([\n",
    "    ('scale_features', ScaleFeatures()),\n",
    "    ('softmax_clf', LogisticRegression(random_state=42, max_iter=4000, multi_class=\"multinomial\", solver=\"lbfgs\", C=3)),\n",
    "])\n",
    "softmax_clf.fit(X=train_x, y=train_y)\n",
    "sio.dump(softmax_clf, './resources/models/softmax_clf.joblib')\n",
    "train_y_pred = softmax_clf.predict(X=train_x)\n",
    "\n",
    "# Compute training and test errors\n",
    "softmax_clf_trac = train_accuracy(train_y, train_y_pred)\n",
    "softmax_clf_cvac = cv_accuracy(logistic_clf, train_x, train_y)\n"
   ]
  },
  {
   "cell_type": "markdown",
   "metadata": {},
   "source": [
    "#### 6. Decision Tree Classifier"
   ]
  },
  {
   "cell_type": "code",
   "execution_count": 12,
   "metadata": {},
   "outputs": [],
   "source": [
    "# Decision tree classifier\n",
    "tree_clf = Pipeline([\n",
    "    ('tree_clf', DecisionTreeClassifier(random_state=42)),\n",
    "])\n",
    "tree_clf.fit(X=train_x, y=train_y)\n",
    "sio.dump(tree_clf, './resources/models/tree_clf.joblib') \n",
    "train_y_pred = tree_clf.predict(X=train_x)\n",
    "\n",
    "# Compute training and test errors\n",
    "tree_clf_trac = train_accuracy(train_y, train_y_pred)\n",
    "tree_clf_cvac = cv_accuracy(tree_clf, train_x, train_y)\n"
   ]
  },
  {
   "cell_type": "markdown",
   "metadata": {},
   "source": [
    "#### 7. Random Forest Classifier"
   ]
  },
  {
   "cell_type": "code",
   "execution_count": 13,
   "metadata": {},
   "outputs": [],
   "source": [
    "# Random forest classifier\n",
    "forest_clf = Pipeline([\n",
    "    ('forest_clf', RandomForestClassifier(random_state=42)),\n",
    "])\n",
    "forest_clf.fit(X=train_x, y=train_y)\n",
    "sio.dump(forest_clf, './resources/models/forest_clf.joblib') \n",
    "train_y_pred = forest_clf.predict(X=train_x)\n",
    "\n",
    "# Compute training and test errors\n",
    "forest_clf_trac = train_accuracy(train_y, train_y_pred)\n",
    "forest_clf_cvac = cv_accuracy(forest_clf, train_x, train_y)"
   ]
  },
  {
   "cell_type": "markdown",
   "metadata": {},
   "source": [
    "#### 8. Support Vector Machine Classifier"
   ]
  },
  {
   "cell_type": "code",
   "execution_count": 14,
   "metadata": {},
   "outputs": [],
   "source": [
    "# Support vector machine classifier\n",
    "svm_clf = Pipeline([\n",
    "    ('svm_clf', svm.NuSVC(max_iter=4000, random_state=42)),\n",
    "])\n",
    "svm_clf.fit(X=train_x, y=train_y)\n",
    "sio.dump(svm_clf, './resources/models/svm_clf.joblib') \n",
    "train_y_pred = svm_clf.predict(X=train_x)\n",
    "\n",
    "# Compute training and test errors\n",
    "svm_clf_trac = train_accuracy(train_y, train_y_pred)\n",
    "svm_clf_cvac = cv_accuracy(svm_clf, train_x, train_y)\n"
   ]
  },
  {
   "cell_type": "markdown",
   "metadata": {},
   "source": [
    "#### 9. Multiple Layer Perceptron"
   ]
  },
  {
   "cell_type": "code",
   "execution_count": 15,
   "metadata": {},
   "outputs": [],
   "source": [
    "# Multiple layer perceptron classifier\n",
    "mlp_clf = Pipeline([\n",
    "    ('scale_features', ScaleFeatures()),\n",
    "    ('mlp_clf', MLPClassifier(hidden_layer_sizes=(16, 32), activation='tanh', solver='lbfgs', max_iter=6000, alpha=1e-1, random_state=1, early_stopping=True)),\n",
    "])\n",
    "mlp_clf.fit(X=train_x, y=train_y)\n",
    "sio.dump(mlp_clf, './resources/models/mlp_clf.joblib') \n",
    "train_y_pred = mlp_clf.predict(X=train_x)\n",
    "\n",
    "# Compute training and test errors\n",
    "mlp_clf_trac = train_accuracy(train_y, train_y_pred)\n",
    "mlp_clf_cvac = cv_accuracy(mlp_clf, train_x, train_y)\n"
   ]
  },
  {
   "cell_type": "markdown",
   "metadata": {},
   "source": [
    "### Results"
   ]
  },
  {
   "cell_type": "markdown",
   "metadata": {},
   "source": [
    "The results are tabulated for consideration in model selection"
   ]
  },
  {
   "cell_type": "code",
   "execution_count": 16,
   "metadata": {},
   "outputs": [
    {
     "data": {
      "text/plain": [
       "{'sgd_clf': [0.9846046186144157, 0.9482296650717703],\n",
       " 'ovo_clf': [0.9993002099370188, 0.9615212857318122],\n",
       " 'ovr_clf': [0.9713086074177747, 0.9545233713654767],\n",
       " 'logistic_clf': [0.9860041987403779, 0.9678174457121825],\n",
       " 'softmax_clf': [0.9944016794961511, 0.9678174457121825],\n",
       " 'tree_clf': [1.0, 0.8425641025641026],\n",
       " 'forest_clf': [1.0, 0.970609741136057],\n",
       " 'svm_clf': [0.9692092372288313, 0.9629149797570851],\n",
       " 'mlp_clf': [1.0, 0.9762164151637837]}"
      ]
     },
     "execution_count": 16,
     "metadata": {},
     "output_type": "execute_result"
    }
   ],
   "source": [
    "results = {\n",
    "    'sgd_clf': [sgd_clf_trac['Training Accuracy'],  sgd_clf_cvac['Mean']],\n",
    "    'ovo_clf': [ovo_clf_trac['Training Accuracy'],  ovo_clf_cvac['Mean']],\n",
    "    'ovr_clf': [ovr_clf_trac['Training Accuracy'],  ovr_clf_cvac['Mean']],\n",
    "    'logistic_clf': [logistic_clf_trac['Training Accuracy'],  logistic_clf_cvac['Mean']],\n",
    "    'softmax_clf': [softmax_clf_trac['Training Accuracy'],  softmax_clf_cvac['Mean']],\n",
    "    'tree_clf': [tree_clf_trac['Training Accuracy'],  tree_clf_cvac['Mean']],\n",
    "    'forest_clf': [forest_clf_trac['Training Accuracy'],  forest_clf_cvac['Mean']],\n",
    "    'svm_clf': [svm_clf_trac['Training Accuracy'],  svm_clf_cvac['Mean']],\n",
    "    'mlp_clf': [mlp_clf_trac['Training Accuracy'],  mlp_clf_cvac['Mean']]\n",
    "}\n",
    "results"
   ]
  },
  {
   "cell_type": "markdown",
   "metadata": {},
   "source": [
    "From the results, most of the estimators look promising but RandomForestClassifier and MLPClassifier stand out. Proceeding with RandomForestClassifier"
   ]
  },
  {
   "cell_type": "markdown",
   "metadata": {},
   "source": [
    "## Hyper Parameter Tunning"
   ]
  },
  {
   "cell_type": "markdown",
   "metadata": {},
   "source": [
    "Tunning some hyperparameters to ooptimize performance from the selected model."
   ]
  },
  {
   "cell_type": "code",
   "execution_count": 17,
   "metadata": {},
   "outputs": [
    {
     "data": {
      "text/html": [
       "<style>#sk-container-id-1 {color: black;}#sk-container-id-1 pre{padding: 0;}#sk-container-id-1 div.sk-toggleable {background-color: white;}#sk-container-id-1 label.sk-toggleable__label {cursor: pointer;display: block;width: 100%;margin-bottom: 0;padding: 0.3em;box-sizing: border-box;text-align: center;}#sk-container-id-1 label.sk-toggleable__label-arrow:before {content: \"▸\";float: left;margin-right: 0.25em;color: #696969;}#sk-container-id-1 label.sk-toggleable__label-arrow:hover:before {color: black;}#sk-container-id-1 div.sk-estimator:hover label.sk-toggleable__label-arrow:before {color: black;}#sk-container-id-1 div.sk-toggleable__content {max-height: 0;max-width: 0;overflow: hidden;text-align: left;background-color: #f0f8ff;}#sk-container-id-1 div.sk-toggleable__content pre {margin: 0.2em;color: black;border-radius: 0.25em;background-color: #f0f8ff;}#sk-container-id-1 input.sk-toggleable__control:checked~div.sk-toggleable__content {max-height: 200px;max-width: 100%;overflow: auto;}#sk-container-id-1 input.sk-toggleable__control:checked~label.sk-toggleable__label-arrow:before {content: \"▾\";}#sk-container-id-1 div.sk-estimator input.sk-toggleable__control:checked~label.sk-toggleable__label {background-color: #d4ebff;}#sk-container-id-1 div.sk-label input.sk-toggleable__control:checked~label.sk-toggleable__label {background-color: #d4ebff;}#sk-container-id-1 input.sk-hidden--visually {border: 0;clip: rect(1px 1px 1px 1px);clip: rect(1px, 1px, 1px, 1px);height: 1px;margin: -1px;overflow: hidden;padding: 0;position: absolute;width: 1px;}#sk-container-id-1 div.sk-estimator {font-family: monospace;background-color: #f0f8ff;border: 1px dotted black;border-radius: 0.25em;box-sizing: border-box;margin-bottom: 0.5em;}#sk-container-id-1 div.sk-estimator:hover {background-color: #d4ebff;}#sk-container-id-1 div.sk-parallel-item::after {content: \"\";width: 100%;border-bottom: 1px solid gray;flex-grow: 1;}#sk-container-id-1 div.sk-label:hover label.sk-toggleable__label {background-color: #d4ebff;}#sk-container-id-1 div.sk-serial::before {content: \"\";position: absolute;border-left: 1px solid gray;box-sizing: border-box;top: 0;bottom: 0;left: 50%;z-index: 0;}#sk-container-id-1 div.sk-serial {display: flex;flex-direction: column;align-items: center;background-color: white;padding-right: 0.2em;padding-left: 0.2em;position: relative;}#sk-container-id-1 div.sk-item {position: relative;z-index: 1;}#sk-container-id-1 div.sk-parallel {display: flex;align-items: stretch;justify-content: center;background-color: white;position: relative;}#sk-container-id-1 div.sk-item::before, #sk-container-id-1 div.sk-parallel-item::before {content: \"\";position: absolute;border-left: 1px solid gray;box-sizing: border-box;top: 0;bottom: 0;left: 50%;z-index: -1;}#sk-container-id-1 div.sk-parallel-item {display: flex;flex-direction: column;z-index: 1;position: relative;background-color: white;}#sk-container-id-1 div.sk-parallel-item:first-child::after {align-self: flex-end;width: 50%;}#sk-container-id-1 div.sk-parallel-item:last-child::after {align-self: flex-start;width: 50%;}#sk-container-id-1 div.sk-parallel-item:only-child::after {width: 0;}#sk-container-id-1 div.sk-dashed-wrapped {border: 1px dashed gray;margin: 0 0.4em 0.5em 0.4em;box-sizing: border-box;padding-bottom: 0.4em;background-color: white;}#sk-container-id-1 div.sk-label label {font-family: monospace;font-weight: bold;display: inline-block;line-height: 1.2em;}#sk-container-id-1 div.sk-label-container {text-align: center;}#sk-container-id-1 div.sk-container {/* jupyter's `normalize.less` sets `[hidden] { display: none; }` but bootstrap.min.css set `[hidden] { display: none !important; }` so we also need the `!important` here to be able to override the default hidden behavior on the sphinx rendered scikit-learn.org. See: https://github.com/scikit-learn/scikit-learn/issues/21755 */display: inline-block !important;position: relative;}#sk-container-id-1 div.sk-text-repr-fallback {display: none;}</style><div id=\"sk-container-id-1\" class=\"sk-top-container\"><div class=\"sk-text-repr-fallback\"><pre>GridSearchCV(cv=5, estimator=RandomForestClassifier(random_state=42),\n",
       "             param_grid=[{&#x27;max_features&#x27;: [5, 6, 7],\n",
       "                          &#x27;min_samples_split&#x27;: [6, 7, 8],\n",
       "                          &#x27;n_estimators&#x27;: [300, 400, 500]}],\n",
       "             return_train_score=True, scoring=&#x27;accuracy&#x27;)</pre><b>In a Jupyter environment, please rerun this cell to show the HTML representation or trust the notebook. <br />On GitHub, the HTML representation is unable to render, please try loading this page with nbviewer.org.</b></div><div class=\"sk-container\" hidden><div class=\"sk-item sk-dashed-wrapped\"><div class=\"sk-label-container\"><div class=\"sk-label sk-toggleable\"><input class=\"sk-toggleable__control sk-hidden--visually\" id=\"sk-estimator-id-1\" type=\"checkbox\" ><label for=\"sk-estimator-id-1\" class=\"sk-toggleable__label sk-toggleable__label-arrow\">GridSearchCV</label><div class=\"sk-toggleable__content\"><pre>GridSearchCV(cv=5, estimator=RandomForestClassifier(random_state=42),\n",
       "             param_grid=[{&#x27;max_features&#x27;: [5, 6, 7],\n",
       "                          &#x27;min_samples_split&#x27;: [6, 7, 8],\n",
       "                          &#x27;n_estimators&#x27;: [300, 400, 500]}],\n",
       "             return_train_score=True, scoring=&#x27;accuracy&#x27;)</pre></div></div></div><div class=\"sk-parallel\"><div class=\"sk-parallel-item\"><div class=\"sk-item\"><div class=\"sk-label-container\"><div class=\"sk-label sk-toggleable\"><input class=\"sk-toggleable__control sk-hidden--visually\" id=\"sk-estimator-id-2\" type=\"checkbox\" ><label for=\"sk-estimator-id-2\" class=\"sk-toggleable__label sk-toggleable__label-arrow\">estimator: RandomForestClassifier</label><div class=\"sk-toggleable__content\"><pre>RandomForestClassifier(random_state=42)</pre></div></div></div><div class=\"sk-serial\"><div class=\"sk-item\"><div class=\"sk-estimator sk-toggleable\"><input class=\"sk-toggleable__control sk-hidden--visually\" id=\"sk-estimator-id-3\" type=\"checkbox\" ><label for=\"sk-estimator-id-3\" class=\"sk-toggleable__label sk-toggleable__label-arrow\">RandomForestClassifier</label><div class=\"sk-toggleable__content\"><pre>RandomForestClassifier(random_state=42)</pre></div></div></div></div></div></div></div></div></div></div>"
      ],
      "text/plain": [
       "GridSearchCV(cv=5, estimator=RandomForestClassifier(random_state=42),\n",
       "             param_grid=[{'max_features': [5, 6, 7],\n",
       "                          'min_samples_split': [6, 7, 8],\n",
       "                          'n_estimators': [300, 400, 500]}],\n",
       "             return_train_score=True, scoring='accuracy')"
      ]
     },
     "execution_count": 17,
     "metadata": {},
     "output_type": "execute_result"
    }
   ],
   "source": [
    "# Fine tunning with GridSearchCV\n",
    "\n",
    "forest_clf = Pipeline([\n",
    "    ('forest_clf', RandomForestClassifier(random_state=42)),\n",
    "])\n",
    "param_grid = [\n",
    "    {\n",
    "        'n_estimators': [300, 400, 500],\n",
    "        'max_features': [5, 6, 7],\n",
    "        'min_samples_split': [6, 7, 8]\n",
    "    }\n",
    "]\n",
    "\n",
    "grid_search = GridSearchCV(\n",
    "    estimator=forest_clf.named_steps['forest_clf'], param_grid=param_grid, cv=5, \n",
    "    scoring='accuracy', return_train_score=True\n",
    ")\n",
    "grid_search.fit(X=train_x, y=train_y)"
   ]
  },
  {
   "cell_type": "code",
   "execution_count": 18,
   "metadata": {},
   "outputs": [
    {
     "name": "stdout",
     "output_type": "stream",
     "text": [
      "0.9699128941234205 {'max_features': 5, 'min_samples_split': 6, 'n_estimators': 300}\n",
      "0.9699104404367562 {'max_features': 5, 'min_samples_split': 6, 'n_estimators': 400}\n",
      "0.970609741136057 {'max_features': 5, 'min_samples_split': 6, 'n_estimators': 500}\n",
      "0.9706146485093854 {'max_features': 5, 'min_samples_split': 7, 'n_estimators': 300}\n",
      "0.9734118513065881 {'max_features': 5, 'min_samples_split': 7, 'n_estimators': 400}\n",
      "0.9713090418353577 {'max_features': 5, 'min_samples_split': 7, 'n_estimators': 500}\n",
      "0.9720083425346584 {'max_features': 5, 'min_samples_split': 8, 'n_estimators': 300}\n",
      "0.970609741136057 {'max_features': 5, 'min_samples_split': 8, 'n_estimators': 400}\n",
      "0.9692111397374555 {'max_features': 5, 'min_samples_split': 8, 'n_estimators': 500}\n",
      "0.9699178014967489 {'max_features': 6, 'min_samples_split': 6, 'n_estimators': 300}\n",
      "0.9706146485093854 {'max_features': 6, 'min_samples_split': 6, 'n_estimators': 400}\n",
      "0.9713164028953504 {'max_features': 6, 'min_samples_split': 6, 'n_estimators': 500}\n",
      "0.9713164028953504 {'max_features': 6, 'min_samples_split': 7, 'n_estimators': 300}\n",
      "0.9706146485093854 {'max_features': 6, 'min_samples_split': 7, 'n_estimators': 400}\n",
      "0.9692111397374555 {'max_features': 6, 'min_samples_split': 7, 'n_estimators': 500}\n",
      "0.9706121948227212 {'max_features': 6, 'min_samples_split': 8, 'n_estimators': 300}\n",
      "0.9692135934241198 {'max_features': 6, 'min_samples_split': 8, 'n_estimators': 400}\n",
      "0.9713114955220219 {'max_features': 6, 'min_samples_split': 8, 'n_estimators': 500}\n",
      "0.9748104527051895 {'max_features': 7, 'min_samples_split': 6, 'n_estimators': 300}\n",
      "0.9741111520058888 {'max_features': 7, 'min_samples_split': 6, 'n_estimators': 400}\n",
      "0.9734118513065881 {'max_features': 7, 'min_samples_split': 6, 'n_estimators': 500}\n",
      "0.9706146485093854 {'max_features': 7, 'min_samples_split': 7, 'n_estimators': 300}\n",
      "0.9713164028953504 {'max_features': 7, 'min_samples_split': 7, 'n_estimators': 400}\n",
      "0.9720107962213227 {'max_features': 7, 'min_samples_split': 7, 'n_estimators': 500}\n",
      "0.971313949208686 {'max_features': 7, 'min_samples_split': 8, 'n_estimators': 300}\n",
      "0.9720132499079869 {'max_features': 7, 'min_samples_split': 8, 'n_estimators': 400}\n",
      "0.969216047110784 {'max_features': 7, 'min_samples_split': 8, 'n_estimators': 500}\n"
     ]
    }
   ],
   "source": [
    "cv_results = grid_search.cv_results_\n",
    "for accuracy, params in zip(cv_results[\"mean_test_score\"], cv_results[\"params\"]):\n",
    "    print(accuracy, params)"
   ]
  },
  {
   "cell_type": "markdown",
   "metadata": {},
   "source": [
    "Obtain the best hyperparameter values"
   ]
  },
  {
   "cell_type": "code",
   "execution_count": 19,
   "metadata": {},
   "outputs": [
    {
     "data": {
      "text/plain": [
       "{'max_features': 7, 'min_samples_split': 6, 'n_estimators': 300}"
      ]
     },
     "execution_count": 19,
     "metadata": {},
     "output_type": "execute_result"
    }
   ],
   "source": [
    "grid_search.best_params_"
   ]
  },
  {
   "cell_type": "markdown",
   "metadata": {},
   "source": [
    "Obtain the best estimator"
   ]
  },
  {
   "cell_type": "code",
   "execution_count": 20,
   "metadata": {},
   "outputs": [
    {
     "data": {
      "text/html": [
       "<style>#sk-container-id-2 {color: black;}#sk-container-id-2 pre{padding: 0;}#sk-container-id-2 div.sk-toggleable {background-color: white;}#sk-container-id-2 label.sk-toggleable__label {cursor: pointer;display: block;width: 100%;margin-bottom: 0;padding: 0.3em;box-sizing: border-box;text-align: center;}#sk-container-id-2 label.sk-toggleable__label-arrow:before {content: \"▸\";float: left;margin-right: 0.25em;color: #696969;}#sk-container-id-2 label.sk-toggleable__label-arrow:hover:before {color: black;}#sk-container-id-2 div.sk-estimator:hover label.sk-toggleable__label-arrow:before {color: black;}#sk-container-id-2 div.sk-toggleable__content {max-height: 0;max-width: 0;overflow: hidden;text-align: left;background-color: #f0f8ff;}#sk-container-id-2 div.sk-toggleable__content pre {margin: 0.2em;color: black;border-radius: 0.25em;background-color: #f0f8ff;}#sk-container-id-2 input.sk-toggleable__control:checked~div.sk-toggleable__content {max-height: 200px;max-width: 100%;overflow: auto;}#sk-container-id-2 input.sk-toggleable__control:checked~label.sk-toggleable__label-arrow:before {content: \"▾\";}#sk-container-id-2 div.sk-estimator input.sk-toggleable__control:checked~label.sk-toggleable__label {background-color: #d4ebff;}#sk-container-id-2 div.sk-label input.sk-toggleable__control:checked~label.sk-toggleable__label {background-color: #d4ebff;}#sk-container-id-2 input.sk-hidden--visually {border: 0;clip: rect(1px 1px 1px 1px);clip: rect(1px, 1px, 1px, 1px);height: 1px;margin: -1px;overflow: hidden;padding: 0;position: absolute;width: 1px;}#sk-container-id-2 div.sk-estimator {font-family: monospace;background-color: #f0f8ff;border: 1px dotted black;border-radius: 0.25em;box-sizing: border-box;margin-bottom: 0.5em;}#sk-container-id-2 div.sk-estimator:hover {background-color: #d4ebff;}#sk-container-id-2 div.sk-parallel-item::after {content: \"\";width: 100%;border-bottom: 1px solid gray;flex-grow: 1;}#sk-container-id-2 div.sk-label:hover label.sk-toggleable__label {background-color: #d4ebff;}#sk-container-id-2 div.sk-serial::before {content: \"\";position: absolute;border-left: 1px solid gray;box-sizing: border-box;top: 0;bottom: 0;left: 50%;z-index: 0;}#sk-container-id-2 div.sk-serial {display: flex;flex-direction: column;align-items: center;background-color: white;padding-right: 0.2em;padding-left: 0.2em;position: relative;}#sk-container-id-2 div.sk-item {position: relative;z-index: 1;}#sk-container-id-2 div.sk-parallel {display: flex;align-items: stretch;justify-content: center;background-color: white;position: relative;}#sk-container-id-2 div.sk-item::before, #sk-container-id-2 div.sk-parallel-item::before {content: \"\";position: absolute;border-left: 1px solid gray;box-sizing: border-box;top: 0;bottom: 0;left: 50%;z-index: -1;}#sk-container-id-2 div.sk-parallel-item {display: flex;flex-direction: column;z-index: 1;position: relative;background-color: white;}#sk-container-id-2 div.sk-parallel-item:first-child::after {align-self: flex-end;width: 50%;}#sk-container-id-2 div.sk-parallel-item:last-child::after {align-self: flex-start;width: 50%;}#sk-container-id-2 div.sk-parallel-item:only-child::after {width: 0;}#sk-container-id-2 div.sk-dashed-wrapped {border: 1px dashed gray;margin: 0 0.4em 0.5em 0.4em;box-sizing: border-box;padding-bottom: 0.4em;background-color: white;}#sk-container-id-2 div.sk-label label {font-family: monospace;font-weight: bold;display: inline-block;line-height: 1.2em;}#sk-container-id-2 div.sk-label-container {text-align: center;}#sk-container-id-2 div.sk-container {/* jupyter's `normalize.less` sets `[hidden] { display: none; }` but bootstrap.min.css set `[hidden] { display: none !important; }` so we also need the `!important` here to be able to override the default hidden behavior on the sphinx rendered scikit-learn.org. See: https://github.com/scikit-learn/scikit-learn/issues/21755 */display: inline-block !important;position: relative;}#sk-container-id-2 div.sk-text-repr-fallback {display: none;}</style><div id=\"sk-container-id-2\" class=\"sk-top-container\"><div class=\"sk-text-repr-fallback\"><pre>RandomForestClassifier(max_features=7, min_samples_split=6, n_estimators=300,\n",
       "                       random_state=42)</pre><b>In a Jupyter environment, please rerun this cell to show the HTML representation or trust the notebook. <br />On GitHub, the HTML representation is unable to render, please try loading this page with nbviewer.org.</b></div><div class=\"sk-container\" hidden><div class=\"sk-item\"><div class=\"sk-estimator sk-toggleable\"><input class=\"sk-toggleable__control sk-hidden--visually\" id=\"sk-estimator-id-4\" type=\"checkbox\" checked><label for=\"sk-estimator-id-4\" class=\"sk-toggleable__label sk-toggleable__label-arrow\">RandomForestClassifier</label><div class=\"sk-toggleable__content\"><pre>RandomForestClassifier(max_features=7, min_samples_split=6, n_estimators=300,\n",
       "                       random_state=42)</pre></div></div></div></div></div>"
      ],
      "text/plain": [
       "RandomForestClassifier(max_features=7, min_samples_split=6, n_estimators=300,\n",
       "                       random_state=42)"
      ]
     },
     "execution_count": 20,
     "metadata": {},
     "output_type": "execute_result"
    }
   ],
   "source": [
    "grid_search.best_estimator_"
   ]
  },
  {
   "cell_type": "markdown",
   "metadata": {},
   "source": [
    "#### Learning curve"
   ]
  },
  {
   "cell_type": "code",
   "execution_count": 21,
   "metadata": {},
   "outputs": [
    {
     "data": {
      "image/png": "[encoded data removed]",
      "text/plain": [
       "<Figure size 640x480 with 1 Axes>"
      ]
     },
     "metadata": {},
     "output_type": "display_data"
    }
   ],
   "source": [
    "final_model = Pipeline([\n",
    "    ('final_model', grid_search.best_estimator_),\n",
    "])\n",
    "\n",
    "train_size, train_acc, valid_acc = learning_curve(final_model, X=train_x, y=train_y, cv=5)\n",
    "\n",
    "plt.figure()\n",
    "plt.plot(train_size, 1-train_acc.mean(axis=1), label='Training error')\n",
    "plt.plot(train_size, 1-valid_acc.mean(axis=1), label='Cross-validation error')\n",
    "plt.xlabel('Training size')\n",
    "plt.ylabel('Error score')\n",
    "plt.legend()\n",
    "plt.show()"
   ]
  },
  {
   "cell_type": "markdown",
   "metadata": {},
   "source": [
    "More training data is required to significantly improve the performance of the model."
   ]
  },
  {
   "cell_type": "markdown",
   "metadata": {},
   "source": [
    "## Final model Training"
   ]
  },
  {
   "cell_type": "markdown",
   "metadata": {},
   "source": [
    "Training the best RandomForestClassifier as the final model"
   ]
  },
  {
   "cell_type": "code",
   "execution_count": 22,
   "metadata": {},
   "outputs": [
    {
     "name": "stdout",
     "output_type": "stream",
     "text": [
      "{'Training Accuracy': 1.0}\n",
      "{'CV accuracies': array([0.98601399, 0.95454545, 0.97552448, 0.96503497, 0.97192982]), 'Mean': 0.970609741136057, 'Standard deviation': 0.010510256199161811}\n"
     ]
    }
   ],
   "source": [
    "# final model: Random forest classifier\n",
    "final_model = Pipeline([\n",
    "    ('final_model', grid_search.best_estimator_),\n",
    "])\n",
    "final_model.fit(X=train_x, y=train_y)\n",
    "sio.dump(final_model, './resources/models/final_model.joblib')\n",
    "train_y_pred = final_model.predict(X=train_x)\n",
    "\n",
    "print(train_accuracy(train_y, train_y_pred))\n",
    "print(cv_accuracy(forest_clf, train_x, train_y))"
   ]
  },
  {
   "cell_type": "markdown",
   "metadata": {},
   "source": [
    "Obtaining feature importances"
   ]
  },
  {
   "cell_type": "code",
   "execution_count": 23,
   "metadata": {},
   "outputs": [
    {
     "data": {
      "text/plain": [
       "pixel_2_5    0.051487\n",
       "pixel_3_2    0.041323\n",
       "pixel_5_3    0.040937\n",
       "pixel_4_4    0.039127\n",
       "pixel_3_4    0.033400\n",
       "               ...   \n",
       "pixel_0_0    0.000000\n",
       "pixel_7_0    0.000000\n",
       "pixel_4_7    0.000000\n",
       "pixel_3_0    0.000000\n",
       "pixel_4_0    0.000000\n",
       "Length: 64, dtype: float64"
      ]
     },
     "execution_count": 23,
     "metadata": {},
     "output_type": "execute_result"
    }
   ],
   "source": [
    "feature_importances = final_model.named_steps['final_model'].feature_importances_\n",
    "pd.Series(data=feature_importances, index=mnist_digits['feature_names']).sort_values(ascending=False)"
   ]
  },
  {
   "cell_type": "markdown",
   "metadata": {},
   "source": [
    "## Final Model Test"
   ]
  },
  {
   "cell_type": "markdown",
   "metadata": {},
   "source": [
    "Evaluating the perfomance of the final model on the test set"
   ]
  },
  {
   "cell_type": "code",
   "execution_count": 24,
   "metadata": {},
   "outputs": [
    {
     "name": "stdout",
     "output_type": "stream",
     "text": [
      "accuracy:  0.9748603351955307\n",
      "precision:  0.9748603351955307\n",
      "recall:  0.9748603351955307\n",
      "f1:  0.9748603351955307\n",
      "confusion:  [[34  0  0  0  1  0  0  0  0  0]\n",
      " [ 0 36  0  0  0  0  0  0  0  0]\n",
      " [ 0  0 35  0  0  0  0  0  0  0]\n",
      " [ 0  0  0 35  0  0  0  1  1  0]\n",
      " [ 0  0  0  0 34  0  0  1  0  1]\n",
      " [ 0  0  0  0  0 35  0  0  1  0]\n",
      " [ 0  0  0  0  0  0 36  0  0  0]\n",
      " [ 0  0  0  0  0  0  0 36  0  0]\n",
      " [ 0  2  0  0  0  0  0  0 33  0]\n",
      " [ 0  0  0  0  0  1  0  0  0 35]]\n"
     ]
    }
   ],
   "source": [
    "# Test set prediction\n",
    "test_predictions = final_model.predict(test_x)\n",
    "\n",
    "# Evaluate model\n",
    "accuracy = accuracy_score(test_y, test_predictions)\n",
    "print('accuracy: ', accuracy)\n",
    "\n",
    "precision = precision_score(test_y, test_predictions, average='micro')\n",
    "print('precision: ', precision)\n",
    "\n",
    "recall = recall_score(test_y, test_predictions, average='micro')\n",
    "print('recall: ', recall)\n",
    "\n",
    "f1 = f1_score(test_y, test_predictions, average='micro')\n",
    "print('f1: ', f1)\n",
    "\n",
    "confusion = confusion_matrix(test_y, test_predictions)\n",
    "print('confusion: ', confusion)"
   ]
  },
  {
   "cell_type": "markdown",
   "metadata": {},
   "source": [
    "There are some misclassificarion involving\n",
    "1. 0 classified as 4 (1)\n",
    "2. 3 classified as 7 (1) \n",
    "3. 3 classified as 8 (2)\n",
    "4. 4 classified as 7 (1)\n",
    "5. 8 classified as 1 (2)\n",
    "6. 9 classified as 5 (1)"
   ]
  },
  {
   "cell_type": "markdown",
   "metadata": {},
   "source": [
    "## Prediction"
   ]
  },
  {
   "cell_type": "markdown",
   "metadata": {},
   "source": [
    "Predicting some digits"
   ]
  },
  {
   "cell_type": "code",
   "execution_count": 25,
   "metadata": {},
   "outputs": [
    {
     "name": "stdout",
     "output_type": "stream",
     "text": [
      "prediction:  [0 1 2 3 4 9 6 7 8 9]\n"
     ]
    }
   ],
   "source": [
    "# Read prediction data\n",
    "digits_x = mnist_digits['data'][:10, :]\n",
    "\n",
    "# Predict median house value\n",
    "predictions = final_model.predict(digits_x)\n",
    "print('prediction: ', predictions)"
   ]
  },
  {
   "cell_type": "markdown",
   "metadata": {},
   "source": [
    "The model gets all but one digits out of 10: a 5 classified as a 9."
   ]
  },
  {
   "cell_type": "markdown",
   "metadata": {},
   "source": [
    "What image did the model misclassify?"
   ]
  },
  {
   "cell_type": "code",
   "execution_count": 26,
   "metadata": {},
   "outputs": [
    {
     "data": {
      "image/png": "[encoded data removed]",
      "text/plain": [
       "<Figure size 640x480 with 1 Axes>"
      ]
     },
     "metadata": {},
     "output_type": "display_data"
    }
   ],
   "source": [
    "plt.imshow(digits_x[5].reshape(8, 8), cmap = mpl.cm.binary, interpolation=\"nearest\")\n",
    "plt.axis(\"off\")\n",
    "plt.show()"
   ]
  }
 ],
 "metadata": {
  "kernelspec": {
   "display_name": "mltf",
   "language": "python",
   "name": "python3"
  },
  "language_info": {
   "codemirror_mode": {
    "name": "ipython",
    "version": 3
   },
   "file_extension": ".py",
   "mimetype": "text/x-python",
   "name": "python",
   "nbconvert_exporter": "python",
   "pygments_lexer": "ipython3",
   "version": "3.9.18"
  }
 },
 "nbformat": 4,
 "nbformat_minor": 2
}
